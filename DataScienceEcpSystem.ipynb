{
 "cells": [
  {
   "cell_type": "markdown",
   "id": "92bc43d3-79e2-485e-94de-e59eee6cd890",
   "metadata": {},
   "source": [
    "# Data Science eco system"
   ]
  },
  {
   "cell_type": "markdown",
   "id": "71387dcc-aabf-44ce-83b6-4fb8402cb707",
   "metadata": {},
   "source": [
    "Hello my name is syed rehan sher and im a comupter science student\n",
    "\n",
    "data science languages\n",
    "->Python\n",
    "->R\n",
    "->Sql\n",
    "->API"
   ]
  },
  {
   "cell_type": "markdown",
   "id": "45fa9966-2c6a-4b89-8b90-9180667bd3e3",
   "metadata": {},
   "source": [
    "# Ds libraries\n",
    "\n",
    "->pandas\n",
    "->numpy\n",
    "->scikit-learn\n",
    "->pytorch\n",
    "->keras\n",
    "->tensorflow"
   ]
  },
  {
   "cell_type": "code",
   "execution_count": null,
   "id": "ca65b7d3-dc06-4d3e-bfc2-ef8480010b9f",
   "metadata": {},
   "outputs": [],
   "source": [
    "| Category          | Tools                              |\n",
    "|-------------------|------------------------------------|\n",
    "| Programming       | Python, R, Julia                  |\n",
    "| Data Manipulation | Pandas, NumPy, dplyr              |\n",
    "| Data Visualization| Matplotlib, Seaborn, ggplot2      |\n",
    "| Machine Learning  | Scikit-learn, TensorFlow, PyTorch |\n",
    "| Big Data          | Hadoop, Spark, Hive               |\n",
    "| Databases         | SQL, MongoDB, PostgreSQL          |\n",
    "| Deployment        | Flask, Docker, Kubernetes         |"
   ]
  },
  {
   "cell_type": "markdown",
   "id": "9a318d65-1086-41fc-87d0-347406c384af",
   "metadata": {},
   "source": [
    "### Introduction to Arithmetic Expressions\n",
    "\n",
    "Arithmetic expressions are fundamental in programming and mathematics. They involve operations like addition, subtraction, multiplication, and division. Below are some examples of how arithmetic expressions can be used in Python."
   ]
  },
  {
   "cell_type": "code",
   "execution_count": null,
   "id": "10e0b055-7f43-4efa-90bc-e6e635b63640",
   "metadata": {},
   "outputs": [],
   "source": []
  },
  {
   "cell_type": "code",
   "execution_count": 3,
   "id": "c6a89455-b67e-468e-ba77-4872ad2cf358",
   "metadata": {},
   "outputs": [
    {
     "data": {
      "text/plain": [
       "5"
      ]
     },
     "execution_count": 3,
     "metadata": {},
     "output_type": "execute_result"
    }
   ],
   "source": [
    "def maths(a,b,op):\n",
    "    if op == '+':\n",
    "        res = a+b\n",
    "    else:\n",
    "        res = a*b\n",
    "\n",
    "    return res\n",
    "\n",
    "maths(2,3,'+')"
   ]
  },
  {
   "cell_type": "markdown",
   "id": "e444d748-15d4-43a9-bbd6-d0ce106f87c2",
   "metadata": {},
   "source": [
    "### Objectives of This Exercise\n",
    "\n",
    "In this exercise, we aim to achieve the following goals:\n",
    "- Understand the basics of arithmetic expressions.\n",
    "- Learn how to use Python for simple calculations.\n",
    "- Explore the use of markdown for documentation.\n",
    "- Practice creating ordered and unordered lists in markdown."
   ]
  },
  {
   "cell_type": "code",
   "execution_count": 4,
   "id": "23ab4ccf-f994-4259-ba41-ef2283e6edba",
   "metadata": {},
   "outputs": [
    {
     "data": {
      "text/plain": [
       "3.3333333333333335"
      ]
     },
     "execution_count": 4,
     "metadata": {},
     "output_type": "execute_result"
    }
   ],
   "source": [
    "# This will convert 200 minutes to hours by dividing by 60\n",
    "minutes = 200\n",
    "hours = minutes / 60\n",
    "hours"
   ]
  },
  {
   "cell_type": "markdown",
   "id": "1466379c-2dbf-4cae-a7c1-8fb3fbaf9d00",
   "metadata": {},
   "source": [
    "# Author\n",
    "\n",
    "rehan"
   ]
  },
  {
   "cell_type": "code",
   "execution_count": null,
   "id": "210f3445-4812-411b-830d-e5fe7e1b640c",
   "metadata": {},
   "outputs": [],
   "source": []
  },
  {
   "cell_type": "code",
   "execution_count": null,
   "id": "d7b1f7cf-dc53-4b0b-8281-54a5739617e3",
   "metadata": {},
   "outputs": [],
   "source": []
  },
  {
   "cell_type": "code",
   "execution_count": null,
   "id": "e8493d45-c29d-43d3-8581-87a87d065e61",
   "metadata": {},
   "outputs": [],
   "source": []
  }
 ],
 "metadata": {
  "kernelspec": {
   "display_name": "Python 3 (ipykernel)",
   "language": "python",
   "name": "python3"
  },
  "language_info": {
   "codemirror_mode": {
    "name": "ipython",
    "version": 3
   },
   "file_extension": ".py",
   "mimetype": "text/x-python",
   "name": "python",
   "nbconvert_exporter": "python",
   "pygments_lexer": "ipython3",
   "version": "3.12.8"
  }
 },
 "nbformat": 4,
 "nbformat_minor": 5
}
